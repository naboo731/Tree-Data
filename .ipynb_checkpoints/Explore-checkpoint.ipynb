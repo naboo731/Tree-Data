{
 "cells": [
  {
   "cell_type": "markdown",
   "id": "e2023049",
   "metadata": {},
   "source": [
    "**Question 1:** How many unique zipcodes are represented?"
   ]
  },
  {
   "cell_type": "code",
   "execution_count": 1,
   "id": "f0dd61c0",
   "metadata": {},
   "outputs": [],
   "source": [
    "import numpy as np\n",
    "import pandas as pd\n",
    "import matplotlib.pyplot as plt\n",
    "%matplotlib inline"
   ]
  },
  {
   "cell_type": "code",
   "execution_count": 29,
   "id": "24f77039",
   "metadata": {},
   "outputs": [
    {
     "data": {
      "text/html": [
       "<div>\n",
       "<style scoped>\n",
       "    .dataframe tbody tr th:only-of-type {\n",
       "        vertical-align: middle;\n",
       "    }\n",
       "\n",
       "    .dataframe tbody tr th {\n",
       "        vertical-align: top;\n",
       "    }\n",
       "\n",
       "    .dataframe thead th {\n",
       "        text-align: right;\n",
       "    }\n",
       "</style>\n",
       "<table border=\"1\" class=\"dataframe\">\n",
       "  <thead>\n",
       "    <tr style=\"text-align: right;\">\n",
       "      <th></th>\n",
       "      <th>TreeID</th>\n",
       "      <th>qLegalStatus</th>\n",
       "      <th>qSpecies</th>\n",
       "      <th>qAddress</th>\n",
       "      <th>SiteOrder</th>\n",
       "      <th>qSiteInfo</th>\n",
       "      <th>PlantType</th>\n",
       "      <th>qCaretaker</th>\n",
       "      <th>qCareAssistant</th>\n",
       "      <th>PlantDate</th>\n",
       "      <th>...</th>\n",
       "      <th>XCoord</th>\n",
       "      <th>YCoord</th>\n",
       "      <th>Latitude</th>\n",
       "      <th>Longitude</th>\n",
       "      <th>Location</th>\n",
       "      <th>Fire Prevention Districts</th>\n",
       "      <th>Police Districts</th>\n",
       "      <th>Supervisor Districts</th>\n",
       "      <th>Zip Codes</th>\n",
       "      <th>Neighborhoods (old)</th>\n",
       "    </tr>\n",
       "  </thead>\n",
       "  <tbody>\n",
       "    <tr>\n",
       "      <th>0</th>\n",
       "      <td>48142</td>\n",
       "      <td>Permitted Site</td>\n",
       "      <td>Tree(s) ::</td>\n",
       "      <td>NaN</td>\n",
       "      <td>252.0</td>\n",
       "      <td>Sidewalk: Curb side : Cutout</td>\n",
       "      <td>Tree</td>\n",
       "      <td>Private</td>\n",
       "      <td>NaN</td>\n",
       "      <td>7/17/02 0:00</td>\n",
       "      <td>...</td>\n",
       "      <td>NaN</td>\n",
       "      <td>NaN</td>\n",
       "      <td>NaN</td>\n",
       "      <td>NaN</td>\n",
       "      <td>NaN</td>\n",
       "      <td>NaN</td>\n",
       "      <td>NaN</td>\n",
       "      <td>NaN</td>\n",
       "      <td>NaN</td>\n",
       "      <td>NaN</td>\n",
       "    </tr>\n",
       "    <tr>\n",
       "      <th>1</th>\n",
       "      <td>19725</td>\n",
       "      <td>DPW Maintained</td>\n",
       "      <td>Pinus Spp :: Pine Spp</td>\n",
       "      <td>100 STAIRWAY14</td>\n",
       "      <td>3.0</td>\n",
       "      <td>Sidewalk: Curb side : Cutout</td>\n",
       "      <td>Tree</td>\n",
       "      <td>DPW</td>\n",
       "      <td>NaN</td>\n",
       "      <td>NaN</td>\n",
       "      <td>...</td>\n",
       "      <td>NaN</td>\n",
       "      <td>NaN</td>\n",
       "      <td>NaN</td>\n",
       "      <td>NaN</td>\n",
       "      <td>NaN</td>\n",
       "      <td>NaN</td>\n",
       "      <td>NaN</td>\n",
       "      <td>NaN</td>\n",
       "      <td>NaN</td>\n",
       "      <td>NaN</td>\n",
       "    </tr>\n",
       "    <tr>\n",
       "      <th>2</th>\n",
       "      <td>121399</td>\n",
       "      <td>DPW Maintained</td>\n",
       "      <td>Corymbia ficifolia :: Red Flowering Gum</td>\n",
       "      <td>349X Cargo Way</td>\n",
       "      <td>1.0</td>\n",
       "      <td>Sidewalk: Curb side : Cutout</td>\n",
       "      <td>Tree</td>\n",
       "      <td>DPW</td>\n",
       "      <td>NaN</td>\n",
       "      <td>NaN</td>\n",
       "      <td>...</td>\n",
       "      <td>NaN</td>\n",
       "      <td>NaN</td>\n",
       "      <td>NaN</td>\n",
       "      <td>NaN</td>\n",
       "      <td>NaN</td>\n",
       "      <td>NaN</td>\n",
       "      <td>NaN</td>\n",
       "      <td>NaN</td>\n",
       "      <td>NaN</td>\n",
       "      <td>NaN</td>\n",
       "    </tr>\n",
       "    <tr>\n",
       "      <th>3</th>\n",
       "      <td>46536</td>\n",
       "      <td>Permitted Site</td>\n",
       "      <td>Tree(s) ::</td>\n",
       "      <td>73 Summer St</td>\n",
       "      <td>2.0</td>\n",
       "      <td>Sidewalk: Curb side : Cutout</td>\n",
       "      <td>Tree</td>\n",
       "      <td>Private</td>\n",
       "      <td>NaN</td>\n",
       "      <td>4/1/02 0:00</td>\n",
       "      <td>...</td>\n",
       "      <td>NaN</td>\n",
       "      <td>NaN</td>\n",
       "      <td>NaN</td>\n",
       "      <td>NaN</td>\n",
       "      <td>NaN</td>\n",
       "      <td>NaN</td>\n",
       "      <td>NaN</td>\n",
       "      <td>NaN</td>\n",
       "      <td>NaN</td>\n",
       "      <td>NaN</td>\n",
       "    </tr>\n",
       "    <tr>\n",
       "      <th>4</th>\n",
       "      <td>251210</td>\n",
       "      <td>DPW Maintained</td>\n",
       "      <td>Eucalyptus polyanthemos :: Silver Dollar Eucal...</td>\n",
       "      <td>1170 Ingalls St</td>\n",
       "      <td>2.0</td>\n",
       "      <td>Sidewalk: Curb side : Cutout</td>\n",
       "      <td>Tree</td>\n",
       "      <td>DPW</td>\n",
       "      <td>NaN</td>\n",
       "      <td>11/2/92 0:00</td>\n",
       "      <td>...</td>\n",
       "      <td>NaN</td>\n",
       "      <td>NaN</td>\n",
       "      <td>NaN</td>\n",
       "      <td>NaN</td>\n",
       "      <td>NaN</td>\n",
       "      <td>NaN</td>\n",
       "      <td>NaN</td>\n",
       "      <td>NaN</td>\n",
       "      <td>NaN</td>\n",
       "      <td>NaN</td>\n",
       "    </tr>\n",
       "  </tbody>\n",
       "</table>\n",
       "<p>5 rows × 23 columns</p>\n",
       "</div>"
      ],
      "text/plain": [
       "   TreeID    qLegalStatus                                           qSpecies  \\\n",
       "0   48142  Permitted Site                                         Tree(s) ::   \n",
       "1   19725  DPW Maintained                              Pinus Spp :: Pine Spp   \n",
       "2  121399  DPW Maintained            Corymbia ficifolia :: Red Flowering Gum   \n",
       "3   46536  Permitted Site                                         Tree(s) ::   \n",
       "4  251210  DPW Maintained  Eucalyptus polyanthemos :: Silver Dollar Eucal...   \n",
       "\n",
       "          qAddress  SiteOrder                     qSiteInfo PlantType  \\\n",
       "0              NaN      252.0  Sidewalk: Curb side : Cutout      Tree   \n",
       "1   100 STAIRWAY14        3.0  Sidewalk: Curb side : Cutout      Tree   \n",
       "2   349X Cargo Way        1.0  Sidewalk: Curb side : Cutout      Tree   \n",
       "3     73 Summer St        2.0  Sidewalk: Curb side : Cutout      Tree   \n",
       "4  1170 Ingalls St        2.0  Sidewalk: Curb side : Cutout      Tree   \n",
       "\n",
       "  qCaretaker qCareAssistant     PlantDate  ...  XCoord YCoord Latitude  \\\n",
       "0    Private            NaN  7/17/02 0:00  ...     NaN    NaN      NaN   \n",
       "1        DPW            NaN           NaN  ...     NaN    NaN      NaN   \n",
       "2        DPW            NaN           NaN  ...     NaN    NaN      NaN   \n",
       "3    Private            NaN   4/1/02 0:00  ...     NaN    NaN      NaN   \n",
       "4        DPW            NaN  11/2/92 0:00  ...     NaN    NaN      NaN   \n",
       "\n",
       "   Longitude  Location  Fire Prevention Districts  Police Districts  \\\n",
       "0        NaN       NaN                        NaN               NaN   \n",
       "1        NaN       NaN                        NaN               NaN   \n",
       "2        NaN       NaN                        NaN               NaN   \n",
       "3        NaN       NaN                        NaN               NaN   \n",
       "4        NaN       NaN                        NaN               NaN   \n",
       "\n",
       "  Supervisor Districts  Zip Codes  Neighborhoods (old)  \n",
       "0                  NaN        NaN                  NaN  \n",
       "1                  NaN        NaN                  NaN  \n",
       "2                  NaN        NaN                  NaN  \n",
       "3                  NaN        NaN                  NaN  \n",
       "4                  NaN        NaN                  NaN  \n",
       "\n",
       "[5 rows x 23 columns]"
      ]
     },
     "execution_count": 29,
     "metadata": {},
     "output_type": "execute_result"
    }
   ],
   "source": [
    "data = pd.read_csv('Street_Tree_List.csv')\n",
    "data.head()"
   ]
  },
  {
   "cell_type": "code",
   "execution_count": 34,
   "id": "80d43de6",
   "metadata": {},
   "outputs": [
    {
     "data": {
      "text/plain": [
       "29"
      ]
     },
     "execution_count": 34,
     "metadata": {},
     "output_type": "execute_result"
    }
   ],
   "source": [
    "data['Zip Codes'].nunique()"
   ]
  },
  {
   "cell_type": "markdown",
   "id": "d495cdda",
   "metadata": {},
   "source": [
    "**Explanation:** First, all necessary libraries were imported and the csv file was imported and read using pandas. The zip code data was isolated using data['Zip Codes'] and the nunique() function totals all unique values in the dataset. "
   ]
  },
  {
   "cell_type": "markdown",
   "id": "628d278d",
   "metadata": {},
   "source": [
    "**Question 2:** How many total trees are there?"
   ]
  },
  {
   "cell_type": "code",
   "execution_count": 42,
   "id": "e04e9366",
   "metadata": {},
   "outputs": [
    {
     "data": {
      "text/plain": [
       "Tree           195551\n",
       "Landscaping       305\n",
       "tree                3\n",
       "Name: PlantType, dtype: int64"
      ]
     },
     "execution_count": 42,
     "metadata": {},
     "output_type": "execute_result"
    }
   ],
   "source": [
    "data['PlantType'].value_counts()"
   ]
  },
  {
   "cell_type": "markdown",
   "id": "87647bb3",
   "metadata": {},
   "source": [
    "**Explanation:** The data was isolated using data['PlantType'] and the value_count() function totals all values in the column by value."
   ]
  },
  {
   "cell_type": "markdown",
   "id": "24c0f19c",
   "metadata": {},
   "source": [
    "**Question 3:** What are the different Site information options?"
   ]
  },
  {
   "cell_type": "code",
   "execution_count": 49,
   "id": "6e26e75d",
   "metadata": {},
   "outputs": [
    {
     "data": {
      "text/plain": [
       "array(['Sidewalk: Curb side : Cutout', 'Side Yard : Yard',\n",
       "       'Back Yard : Yard', 'Sidewalk: Property side : Yard',\n",
       "       'Median : Yard', 'Unaccepted Street : Yard', 'Front Yard : Yard',\n",
       "       'Sidewalk: Curb side : Yard', 'Sidewalk: Property side : Cutout',\n",
       "       'Unaccepted Street : Cutout', 'Median : Cutout',\n",
       "       'Side Yard : Cutout', 'unknown : Yard', 'Back Yard : Cutout',\n",
       "       'Sidewalk: Curb side : Pot', 'Sidewalk: Curb side :', 'Median :',\n",
       "       ':', 'Front Yard : Pot', 'Front Yard : Cutout',\n",
       "       'Unaccepted Street : Pot', ': Yard', ': Cutout', 'Front Yard :',\n",
       "       'Sidewalk: Property side : Pot', 'Sidewalk: Property side :',\n",
       "       'unknown : Cutout', 'Hanging basket : Cutout',\n",
       "       'Sidewalk: Curb side : Hanging Pot', 'Hanging basket : Yard',\n",
       "       'unknown : Pot', 'Median : Hanging Pot'], dtype=object)"
      ]
     },
     "execution_count": 49,
     "metadata": {},
     "output_type": "execute_result"
    }
   ],
   "source": [
    "data['qSiteInfo'].unique()"
   ]
  },
  {
   "cell_type": "markdown",
   "id": "0a790184",
   "metadata": {},
   "source": [
    "**Explanation:** The data was isolated using data['qSiteInfo'] and the unique() function lists all the different site values within that column. "
   ]
  },
  {
   "cell_type": "markdown",
   "id": "05a63161",
   "metadata": {},
   "source": [
    "**Question 4:** Which is more popular for the caretaker– Private or Department of Public Works?"
   ]
  },
  {
   "cell_type": "code",
   "execution_count": 60,
   "id": "50988104",
   "metadata": {},
   "outputs": [
    {
     "data": {
      "text/plain": [
       "Private                    164135\n",
       "DPW                         27984\n",
       "SFUSD                        1100\n",
       "Port                          726\n",
       "Rec/Park                      722\n",
       "PUC                           261\n",
       "DPW for City Agency           210\n",
       "MTA                           109\n",
       "Dept of Real Estate            94\n",
       "Purchasing Dept                85\n",
       "Housing Authority              73\n",
       "Fire Dept                      68\n",
       "Health Dept                    56\n",
       "Police Dept                    50\n",
       "Public Library                 37\n",
       "Mayor Office of Housing        37\n",
       "Arts Commission                31\n",
       "Office of Mayor                27\n",
       "War Memorial                   20\n",
       "Mission Verde                  15\n",
       "City College                   11\n",
       "Asian Arts Commission           6\n",
       "CAN                             1\n",
       "Cleary Bros. Landscape          1\n",
       "Name: qCaretaker, dtype: int64"
      ]
     },
     "execution_count": 60,
     "metadata": {},
     "output_type": "execute_result"
    }
   ],
   "source": [
    "data['qCaretaker'].value_counts()"
   ]
  },
  {
   "cell_type": "markdown",
   "id": "620a8d38",
   "metadata": {},
   "source": [
    "**Explanation:** The data was isolated using data['qCaretaker'] and the value_counts() function will count all values within the column displaying that Private has more than DPW. "
   ]
  },
  {
   "cell_type": "markdown",
   "id": "48219c89",
   "metadata": {},
   "source": [
    "**Question 5:** What missing data is there in this dataset? Which columns are impacted? How many rows in each column?"
   ]
  },
  {
   "cell_type": "code",
   "execution_count": 65,
   "id": "10843ddd",
   "metadata": {},
   "outputs": [
    {
     "data": {
      "text/plain": [
       "TreeID                            0\n",
       "qLegalStatus                     57\n",
       "qSpecies                          0\n",
       "qAddress                       1490\n",
       "SiteOrder                      1755\n",
       "qSiteInfo                         0\n",
       "PlantType                         0\n",
       "qCaretaker                        0\n",
       "qCareAssistant               171206\n",
       "PlantDate                    127493\n",
       "DBH                           43147\n",
       "PlotSize                      50332\n",
       "PermitNotes                  142748\n",
       "XCoord                         2940\n",
       "YCoord                         2940\n",
       "Latitude                       2940\n",
       "Longitude                      2940\n",
       "Location                       2940\n",
       "Fire Prevention Districts      3191\n",
       "Police Districts               3138\n",
       "Supervisor Districts           3077\n",
       "Zip Codes                      3083\n",
       "Neighborhoods (old)            3081\n",
       "dtype: int64"
      ]
     },
     "execution_count": 65,
     "metadata": {},
     "output_type": "execute_result"
    }
   ],
   "source": [
    "pd.isna(data.loc[:, :]).sum()"
   ]
  },
  {
   "cell_type": "markdown",
   "id": "67203f3d",
   "metadata": {},
   "source": [
    "**Explanation:** Using pandas .isna() to isolate all the true/false values if any row or column contains missing data, then used the sum() function to total the true values in each column."
   ]
  },
  {
   "cell_type": "code",
   "execution_count": null,
   "id": "e35203c7",
   "metadata": {},
   "outputs": [],
   "source": []
  }
 ],
 "metadata": {
  "kernelspec": {
   "display_name": "Python 3 (ipykernel)",
   "language": "python",
   "name": "python3"
  },
  "language_info": {
   "codemirror_mode": {
    "name": "ipython",
    "version": 3
   },
   "file_extension": ".py",
   "mimetype": "text/x-python",
   "name": "python",
   "nbconvert_exporter": "python",
   "pygments_lexer": "ipython3",
   "version": "3.10.1"
  }
 },
 "nbformat": 4,
 "nbformat_minor": 5
}
